{
 "cells": [
  {
   "cell_type": "code",
   "execution_count": 2,
   "metadata": {},
   "outputs": [
    {
     "data": {
      "text/html": [
       "<script type=\"text/javascript\">window.PlotlyConfig = {MathJaxConfig: 'local'};</script><script type=\"text/javascript\">if (window.MathJax) {MathJax.Hub.Config({SVG: {font: \"STIX-Web\"}});}</script><script>requirejs.config({paths: { 'plotly': ['https://cdn.plot.ly/plotly-latest.min']},});if(!window._Plotly) {require(['plotly'],function(plotly) {window._Plotly=plotly;});}</script>"
      ],
      "text/vnd.plotly.v1+html": [
       "<script type=\"text/javascript\">window.PlotlyConfig = {MathJaxConfig: 'local'};</script><script type=\"text/javascript\">if (window.MathJax) {MathJax.Hub.Config({SVG: {font: \"STIX-Web\"}});}</script><script>requirejs.config({paths: { 'plotly': ['https://cdn.plot.ly/plotly-latest.min']},});if(!window._Plotly) {require(['plotly'],function(plotly) {window._Plotly=plotly;});}</script>"
      ]
     },
     "metadata": {},
     "output_type": "display_data"
    }
   ],
   "source": [
    "import numpy as np\n",
    "import pandas as pd\n",
    "import matplotlib.pyplot as plt\n",
    "\n",
    "# I used the next two lines to install plotly\n",
    "# import sys\n",
    "# !{sys.executable} -m pip install plotly\n",
    "\n",
    "import plotly.graph_objs as go\n",
    "import plotly.figure_factory as ff\n",
    "from plotly import tools\n",
    "from plotly.offline import download_plotlyjs, init_notebook_mode, plot, iplot\n",
    "init_notebook_mode(connected=True)"
   ]
  },
  {
   "cell_type": "code",
   "execution_count": 4,
   "metadata": {},
   "outputs": [],
   "source": [
    "olympics = pd.read_csv('athlete_events.csv')"
   ]
  },
  {
   "cell_type": "code",
   "execution_count": 5,
   "metadata": {},
   "outputs": [
    {
     "data": {
      "text/html": [
       "<div>\n",
       "<style scoped>\n",
       "    .dataframe tbody tr th:only-of-type {\n",
       "        vertical-align: middle;\n",
       "    }\n",
       "\n",
       "    .dataframe tbody tr th {\n",
       "        vertical-align: top;\n",
       "    }\n",
       "\n",
       "    .dataframe thead th {\n",
       "        text-align: right;\n",
       "    }\n",
       "</style>\n",
       "<table border=\"1\" class=\"dataframe\">\n",
       "  <thead>\n",
       "    <tr style=\"text-align: right;\">\n",
       "      <th></th>\n",
       "      <th>ID</th>\n",
       "      <th>Name</th>\n",
       "      <th>Sex</th>\n",
       "      <th>Age</th>\n",
       "      <th>Height</th>\n",
       "      <th>Weight</th>\n",
       "      <th>Team</th>\n",
       "      <th>NOC</th>\n",
       "      <th>Games</th>\n",
       "      <th>Year</th>\n",
       "      <th>Season</th>\n",
       "      <th>City</th>\n",
       "      <th>Sport</th>\n",
       "      <th>Event</th>\n",
       "      <th>Medal</th>\n",
       "    </tr>\n",
       "  </thead>\n",
       "  <tbody>\n",
       "    <tr>\n",
       "      <th>0</th>\n",
       "      <td>1</td>\n",
       "      <td>A Dijiang</td>\n",
       "      <td>M</td>\n",
       "      <td>24.0</td>\n",
       "      <td>180.0</td>\n",
       "      <td>80.0</td>\n",
       "      <td>China</td>\n",
       "      <td>CHN</td>\n",
       "      <td>1992 Summer</td>\n",
       "      <td>1992</td>\n",
       "      <td>Summer</td>\n",
       "      <td>Barcelona</td>\n",
       "      <td>Basketball</td>\n",
       "      <td>Basketball Men's Basketball</td>\n",
       "      <td>NaN</td>\n",
       "    </tr>\n",
       "    <tr>\n",
       "      <th>1</th>\n",
       "      <td>2</td>\n",
       "      <td>A Lamusi</td>\n",
       "      <td>M</td>\n",
       "      <td>23.0</td>\n",
       "      <td>170.0</td>\n",
       "      <td>60.0</td>\n",
       "      <td>China</td>\n",
       "      <td>CHN</td>\n",
       "      <td>2012 Summer</td>\n",
       "      <td>2012</td>\n",
       "      <td>Summer</td>\n",
       "      <td>London</td>\n",
       "      <td>Judo</td>\n",
       "      <td>Judo Men's Extra-Lightweight</td>\n",
       "      <td>NaN</td>\n",
       "    </tr>\n",
       "    <tr>\n",
       "      <th>2</th>\n",
       "      <td>3</td>\n",
       "      <td>Gunnar Nielsen Aaby</td>\n",
       "      <td>M</td>\n",
       "      <td>24.0</td>\n",
       "      <td>NaN</td>\n",
       "      <td>NaN</td>\n",
       "      <td>Denmark</td>\n",
       "      <td>DEN</td>\n",
       "      <td>1920 Summer</td>\n",
       "      <td>1920</td>\n",
       "      <td>Summer</td>\n",
       "      <td>Antwerpen</td>\n",
       "      <td>Football</td>\n",
       "      <td>Football Men's Football</td>\n",
       "      <td>NaN</td>\n",
       "    </tr>\n",
       "    <tr>\n",
       "      <th>3</th>\n",
       "      <td>4</td>\n",
       "      <td>Edgar Lindenau Aabye</td>\n",
       "      <td>M</td>\n",
       "      <td>34.0</td>\n",
       "      <td>NaN</td>\n",
       "      <td>NaN</td>\n",
       "      <td>Denmark/Sweden</td>\n",
       "      <td>DEN</td>\n",
       "      <td>1900 Summer</td>\n",
       "      <td>1900</td>\n",
       "      <td>Summer</td>\n",
       "      <td>Paris</td>\n",
       "      <td>Tug-Of-War</td>\n",
       "      <td>Tug-Of-War Men's Tug-Of-War</td>\n",
       "      <td>Gold</td>\n",
       "    </tr>\n",
       "    <tr>\n",
       "      <th>4</th>\n",
       "      <td>5</td>\n",
       "      <td>Christine Jacoba Aaftink</td>\n",
       "      <td>F</td>\n",
       "      <td>21.0</td>\n",
       "      <td>185.0</td>\n",
       "      <td>82.0</td>\n",
       "      <td>Netherlands</td>\n",
       "      <td>NED</td>\n",
       "      <td>1988 Winter</td>\n",
       "      <td>1988</td>\n",
       "      <td>Winter</td>\n",
       "      <td>Calgary</td>\n",
       "      <td>Speed Skating</td>\n",
       "      <td>Speed Skating Women's 500 metres</td>\n",
       "      <td>NaN</td>\n",
       "    </tr>\n",
       "  </tbody>\n",
       "</table>\n",
       "</div>"
      ],
      "text/plain": [
       "   ID                      Name Sex   Age  Height  Weight            Team  \\\n",
       "0   1                 A Dijiang   M  24.0   180.0    80.0           China   \n",
       "1   2                  A Lamusi   M  23.0   170.0    60.0           China   \n",
       "2   3       Gunnar Nielsen Aaby   M  24.0     NaN     NaN         Denmark   \n",
       "3   4      Edgar Lindenau Aabye   M  34.0     NaN     NaN  Denmark/Sweden   \n",
       "4   5  Christine Jacoba Aaftink   F  21.0   185.0    82.0     Netherlands   \n",
       "\n",
       "   NOC        Games  Year  Season       City          Sport  \\\n",
       "0  CHN  1992 Summer  1992  Summer  Barcelona     Basketball   \n",
       "1  CHN  2012 Summer  2012  Summer     London           Judo   \n",
       "2  DEN  1920 Summer  1920  Summer  Antwerpen       Football   \n",
       "3  DEN  1900 Summer  1900  Summer      Paris     Tug-Of-War   \n",
       "4  NED  1988 Winter  1988  Winter    Calgary  Speed Skating   \n",
       "\n",
       "                              Event Medal  \n",
       "0       Basketball Men's Basketball   NaN  \n",
       "1      Judo Men's Extra-Lightweight   NaN  \n",
       "2           Football Men's Football   NaN  \n",
       "3       Tug-Of-War Men's Tug-Of-War  Gold  \n",
       "4  Speed Skating Women's 500 metres   NaN  "
      ]
     },
     "execution_count": 5,
     "metadata": {},
     "output_type": "execute_result"
    }
   ],
   "source": [
    "olympics.head()"
   ]
  },
  {
   "cell_type": "code",
   "execution_count": 4,
   "metadata": {},
   "outputs": [],
   "source": [
    "# Clean the Team column\n",
    "# Some of the entries in the column contain the country name followed by a dash and a number, such as China-2.\n",
    "new_Team = [team[:-2] if team[-2] == '-' else team for team in olympics.Team]\n",
    "olympics.Team = new_Team\n",
    "\n",
    "tt_men = olympics.loc[(olympics.Sport == \"Table Tennis\") & (olympics.Sex == 'M')]\n",
    "tt_women = olympics.loc[(olympics.Sport == \"Table Tennis\") & (olympics.Sex == 'F')]\n",
    "tt_men_singles = olympics.loc[(olympics.Event == \"Table Tennis Men's Singles\")]"
   ]
  },
  {
   "cell_type": "code",
   "execution_count": 5,
   "metadata": {},
   "outputs": [
    {
     "data": {
      "image/png": "[encoded data removed]",
      "text/plain": [
       "<Figure size 432x288 with 1 Axes>"
      ]
     },
     "metadata": {},
     "output_type": "display_data"
    },
    {
     "data": {
      "image/png": "[encoded data removed]",
      "text/plain": [
       "<Figure size 432x288 with 1 Axes>"
      ]
     },
     "metadata": {},
     "output_type": "display_data"
    },
    {
     "data": {
      "image/png": "[encoded data removed]",
      "text/plain": [
       "<Figure size 432x288 with 1 Axes>"
      ]
     },
     "metadata": {},
     "output_type": "display_data"
    }
   ],
   "source": [
    "# Histograms for the age, height, and weight of table tennis players, grouped by gender\n",
    "tt_men.Age.plot(kind='hist', title = 'Athlete Age Distribution', alpha=0.5, label = 'Male')\n",
    "tt_women.Age.plot(kind='hist', alpha=0.5, label = 'Female')\n",
    "plt.xlabel('Age')\n",
    "plt.legend(loc ='upper right')\n",
    "plt.show()\n",
    "\n",
    "tt_men.Height.plot(kind='hist', title = 'Athlete Height Distribution', alpha=0.5, label = 'Male')\n",
    "tt_women.Height.plot(kind='hist', alpha=0.5, label = 'Female')\n",
    "plt.xlabel('Height (cm)')\n",
    "plt.legend(loc ='upper right')\n",
    "plt.show()\n",
    "\n",
    "tt_men.Weight.plot(kind='hist', title = 'Athlete Weight Distribution', alpha=0.5, label = 'Male')\n",
    "tt_women.Weight.plot(kind='hist', alpha=0.5, label = 'Female')\n",
    "plt.xlabel('Weight (kg)')\n",
    "plt.legend(loc ='upper right')\n",
    "plt.show()\n"
   ]
  },
  {
   "cell_type": "code",
   "execution_count": 6,
   "metadata": {},
   "outputs": [
    {
     "data": {
      "text/html": [
       "<div>\n",
       "<style scoped>\n",
       "    .dataframe tbody tr th:only-of-type {\n",
       "        vertical-align: middle;\n",
       "    }\n",
       "\n",
       "    .dataframe tbody tr th {\n",
       "        vertical-align: top;\n",
       "    }\n",
       "\n",
       "    .dataframe thead th {\n",
       "        text-align: right;\n",
       "    }\n",
       "</style>\n",
       "<table border=\"1\" class=\"dataframe\">\n",
       "  <thead>\n",
       "    <tr style=\"text-align: right;\">\n",
       "      <th></th>\n",
       "      <th>ID</th>\n",
       "      <th>Name</th>\n",
       "      <th>Sex</th>\n",
       "      <th>Age</th>\n",
       "      <th>Height</th>\n",
       "      <th>Weight</th>\n",
       "      <th>Team</th>\n",
       "      <th>NOC</th>\n",
       "      <th>Games</th>\n",
       "      <th>Year</th>\n",
       "      <th>Season</th>\n",
       "      <th>City</th>\n",
       "      <th>Sport</th>\n",
       "      <th>Event</th>\n",
       "      <th>Medal</th>\n",
       "    </tr>\n",
       "  </thead>\n",
       "  <tbody>\n",
       "    <tr>\n",
       "      <th>175296</th>\n",
       "      <td>88096</td>\n",
       "      <td>Patricia Akosua Offel</td>\n",
       "      <td>F</td>\n",
       "      <td>16.0</td>\n",
       "      <td>NaN</td>\n",
       "      <td>120.0</td>\n",
       "      <td>Ghana</td>\n",
       "      <td>GHA</td>\n",
       "      <td>1988 Summer</td>\n",
       "      <td>1988</td>\n",
       "      <td>Summer</td>\n",
       "      <td>Seoul</td>\n",
       "      <td>Table Tennis</td>\n",
       "      <td>Table Tennis Women's Singles</td>\n",
       "      <td>NaN</td>\n",
       "    </tr>\n",
       "  </tbody>\n",
       "</table>\n",
       "</div>"
      ],
      "text/plain": [
       "           ID                   Name Sex   Age  Height  Weight   Team  NOC  \\\n",
       "175296  88096  Patricia Akosua Offel   F  16.0     NaN   120.0  Ghana  GHA   \n",
       "\n",
       "              Games  Year  Season   City         Sport  \\\n",
       "175296  1988 Summer  1988  Summer  Seoul  Table Tennis   \n",
       "\n",
       "                               Event Medal  \n",
       "175296  Table Tennis Women's Singles   NaN  "
      ]
     },
     "execution_count": 6,
     "metadata": {},
     "output_type": "execute_result"
    }
   ],
   "source": [
    "# Examine the huge outlier in the weight histogram\n",
    "tt_women.loc[tt_women.Weight == tt_women.Weight.max()]"
   ]
  },
  {
   "cell_type": "code",
   "execution_count": 8,
   "metadata": {},
   "outputs": [
    {
     "data": {
      "text/html": [
       "<div>\n",
       "<style scoped>\n",
       "    .dataframe tbody tr th:only-of-type {\n",
       "        vertical-align: middle;\n",
       "    }\n",
       "\n",
       "    .dataframe tbody tr th {\n",
       "        vertical-align: top;\n",
       "    }\n",
       "\n",
       "    .dataframe thead th {\n",
       "        text-align: right;\n",
       "    }\n",
       "</style>\n",
       "<table border=\"1\" class=\"dataframe\">\n",
       "  <thead>\n",
       "    <tr style=\"text-align: right;\">\n",
       "      <th></th>\n",
       "      <th>ID</th>\n",
       "      <th>Name</th>\n",
       "      <th>Sex</th>\n",
       "      <th>Age</th>\n",
       "      <th>Height</th>\n",
       "      <th>Weight</th>\n",
       "      <th>Team</th>\n",
       "      <th>NOC</th>\n",
       "      <th>Games</th>\n",
       "      <th>Year</th>\n",
       "      <th>Season</th>\n",
       "      <th>City</th>\n",
       "      <th>Sport</th>\n",
       "      <th>Event</th>\n",
       "      <th>Medal</th>\n",
       "    </tr>\n",
       "  </thead>\n",
       "  <tbody>\n",
       "    <tr>\n",
       "      <th>99878</th>\n",
       "      <td>50528</td>\n",
       "      <td>Ariel Yenhua Hsing</td>\n",
       "      <td>F</td>\n",
       "      <td>16.0</td>\n",
       "      <td>165.0</td>\n",
       "      <td>53.0</td>\n",
       "      <td>United States</td>\n",
       "      <td>USA</td>\n",
       "      <td>2012 Summer</td>\n",
       "      <td>2012</td>\n",
       "      <td>Summer</td>\n",
       "      <td>London</td>\n",
       "      <td>Table Tennis</td>\n",
       "      <td>Table Tennis Women's Singles</td>\n",
       "      <td>NaN</td>\n",
       "    </tr>\n",
       "    <tr>\n",
       "      <th>99879</th>\n",
       "      <td>50528</td>\n",
       "      <td>Ariel Yenhua Hsing</td>\n",
       "      <td>F</td>\n",
       "      <td>16.0</td>\n",
       "      <td>165.0</td>\n",
       "      <td>53.0</td>\n",
       "      <td>United States</td>\n",
       "      <td>USA</td>\n",
       "      <td>2012 Summer</td>\n",
       "      <td>2012</td>\n",
       "      <td>Summer</td>\n",
       "      <td>London</td>\n",
       "      <td>Table Tennis</td>\n",
       "      <td>Table Tennis Women's Team</td>\n",
       "      <td>NaN</td>\n",
       "    </tr>\n",
       "  </tbody>\n",
       "</table>\n",
       "</div>"
      ],
      "text/plain": [
       "          ID                Name Sex   Age  Height  Weight           Team  \\\n",
       "99878  50528  Ariel Yenhua Hsing   F  16.0   165.0    53.0  United States   \n",
       "99879  50528  Ariel Yenhua Hsing   F  16.0   165.0    53.0  United States   \n",
       "\n",
       "       NOC        Games  Year  Season    City         Sport  \\\n",
       "99878  USA  2012 Summer  2012  Summer  London  Table Tennis   \n",
       "99879  USA  2012 Summer  2012  Summer  London  Table Tennis   \n",
       "\n",
       "                              Event Medal  \n",
       "99878  Table Tennis Women's Singles   NaN  \n",
       "99879     Table Tennis Women's Team   NaN  "
      ]
     },
     "execution_count": 8,
     "metadata": {},
     "output_type": "execute_result"
    }
   ],
   "source": [
    "# Looking for a particular player I knew\n",
    "tt_women.loc[tt_women.Name == 'Ariel Yenhua Hsing']"
   ]
  },
  {
   "cell_type": "code",
   "execution_count": 9,
   "metadata": {},
   "outputs": [
    {
     "data": {
      "text/html": [
       "<div>\n",
       "<style scoped>\n",
       "    .dataframe tbody tr th:only-of-type {\n",
       "        vertical-align: middle;\n",
       "    }\n",
       "\n",
       "    .dataframe tbody tr th {\n",
       "        vertical-align: top;\n",
       "    }\n",
       "\n",
       "    .dataframe thead th {\n",
       "        text-align: right;\n",
       "    }\n",
       "</style>\n",
       "<table border=\"1\" class=\"dataframe\">\n",
       "  <thead>\n",
       "    <tr style=\"text-align: right;\">\n",
       "      <th></th>\n",
       "      <th>ID</th>\n",
       "      <th>Name</th>\n",
       "      <th>Sex</th>\n",
       "      <th>Age</th>\n",
       "      <th>Height</th>\n",
       "      <th>Weight</th>\n",
       "      <th>Team</th>\n",
       "      <th>NOC</th>\n",
       "      <th>Games</th>\n",
       "      <th>Year</th>\n",
       "      <th>Season</th>\n",
       "      <th>City</th>\n",
       "      <th>Sport</th>\n",
       "      <th>Event</th>\n",
       "      <th>Medal</th>\n",
       "    </tr>\n",
       "  </thead>\n",
       "  <tbody>\n",
       "    <tr>\n",
       "      <th>170648</th>\n",
       "      <td>85768</td>\n",
       "      <td>Xia Lian Ni</td>\n",
       "      <td>F</td>\n",
       "      <td>53.0</td>\n",
       "      <td>157.0</td>\n",
       "      <td>58.0</td>\n",
       "      <td>Luxembourg</td>\n",
       "      <td>LUX</td>\n",
       "      <td>2016 Summer</td>\n",
       "      <td>2016</td>\n",
       "      <td>Summer</td>\n",
       "      <td>Rio de Janeiro</td>\n",
       "      <td>Table Tennis</td>\n",
       "      <td>Table Tennis Women's Singles</td>\n",
       "      <td>NaN</td>\n",
       "    </tr>\n",
       "  </tbody>\n",
       "</table>\n",
       "</div>"
      ],
      "text/plain": [
       "           ID         Name Sex   Age  Height  Weight        Team  NOC  \\\n",
       "170648  85768  Xia Lian Ni   F  53.0   157.0    58.0  Luxembourg  LUX   \n",
       "\n",
       "              Games  Year  Season            City         Sport  \\\n",
       "170648  2016 Summer  2016  Summer  Rio de Janeiro  Table Tennis   \n",
       "\n",
       "                               Event Medal  \n",
       "170648  Table Tennis Women's Singles   NaN  "
      ]
     },
     "execution_count": 9,
     "metadata": {},
     "output_type": "execute_result"
    }
   ],
   "source": [
    "# Ariel defeated the oldest female athlete, Ni Xia Lian, in the round of 64\n",
    "tt_women.loc[tt_women.Age == tt_women.Age.max()]"
   ]
  },
  {
   "cell_type": "code",
   "execution_count": 10,
   "metadata": {},
   "outputs": [
    {
     "data": {
      "text/html": [
       "<div>\n",
       "<style scoped>\n",
       "    .dataframe tbody tr th:only-of-type {\n",
       "        vertical-align: middle;\n",
       "    }\n",
       "\n",
       "    .dataframe tbody tr th {\n",
       "        vertical-align: top;\n",
       "    }\n",
       "\n",
       "    .dataframe thead th {\n",
       "        text-align: right;\n",
       "    }\n",
       "</style>\n",
       "<table border=\"1\" class=\"dataframe\">\n",
       "  <thead>\n",
       "    <tr style=\"text-align: right;\">\n",
       "      <th></th>\n",
       "      <th>ID</th>\n",
       "      <th>Name</th>\n",
       "      <th>Sex</th>\n",
       "      <th>Age</th>\n",
       "      <th>Height</th>\n",
       "      <th>Weight</th>\n",
       "      <th>Team</th>\n",
       "      <th>NOC</th>\n",
       "      <th>Games</th>\n",
       "      <th>Year</th>\n",
       "      <th>Season</th>\n",
       "      <th>City</th>\n",
       "      <th>Sport</th>\n",
       "      <th>Event</th>\n",
       "      <th>Medal</th>\n",
       "    </tr>\n",
       "  </thead>\n",
       "  <tbody>\n",
       "    <tr>\n",
       "      <th>92660</th>\n",
       "      <td>46946</td>\n",
       "      <td>Zhiwen He Cheng</td>\n",
       "      <td>M</td>\n",
       "      <td>54.0</td>\n",
       "      <td>173.0</td>\n",
       "      <td>73.0</td>\n",
       "      <td>Spain</td>\n",
       "      <td>ESP</td>\n",
       "      <td>2016 Summer</td>\n",
       "      <td>2016</td>\n",
       "      <td>Summer</td>\n",
       "      <td>Rio de Janeiro</td>\n",
       "      <td>Table Tennis</td>\n",
       "      <td>Table Tennis Men's Singles</td>\n",
       "      <td>NaN</td>\n",
       "    </tr>\n",
       "  </tbody>\n",
       "</table>\n",
       "</div>"
      ],
      "text/plain": [
       "          ID             Name Sex   Age  Height  Weight   Team  NOC  \\\n",
       "92660  46946  Zhiwen He Cheng   M  54.0   173.0    73.0  Spain  ESP   \n",
       "\n",
       "             Games  Year  Season            City         Sport  \\\n",
       "92660  2016 Summer  2016  Summer  Rio de Janeiro  Table Tennis   \n",
       "\n",
       "                            Event Medal  \n",
       "92660  Table Tennis Men's Singles   NaN  "
      ]
     },
     "execution_count": 10,
     "metadata": {},
     "output_type": "execute_result"
    }
   ],
   "source": [
    "# Is the oldest athlete male or female?\n",
    "tt_men.loc[tt_men.Age == tt_men.Age.max()]"
   ]
  },
  {
   "cell_type": "code",
   "execution_count": 11,
   "metadata": {},
   "outputs": [
    {
     "data": {
      "text/plain": [
       "Year\n",
       "1988    1\n",
       "1992    2\n",
       "1996    1\n",
       "2000    1\n",
       "2004    1\n",
       "2008    1\n",
       "2012    1\n",
       "2016    1\n",
       "Name: Year, dtype: int64"
      ]
     },
     "execution_count": 11,
     "metadata": {},
     "output_type": "execute_result"
    }
   ],
   "source": [
    "men_singles_bronze = tt_men_singles.loc[tt_men_singles.Medal == 'Bronze'].groupby('Year')['Year'].count()\n",
    "men_singles_bronze\n",
    "\n",
    "# Upon further research, there was no third place game played in 1992, leading to two bronze medals."
   ]
  },
  {
   "cell_type": "code",
   "execution_count": 12,
   "metadata": {},
   "outputs": [
    {
     "data": {
      "text/plain": [
       "Team\n",
       "China          37\n",
       "Denmark         2\n",
       "France          3\n",
       "Germany        13\n",
       "Hong Kong       2\n",
       "Japan           4\n",
       "South Korea    18\n",
       "Sweden          3\n",
       "Yugoslavia      2\n",
       "Name: Team, dtype: int64"
      ]
     },
     "execution_count": 12,
     "metadata": {},
     "output_type": "execute_result"
    }
   ],
   "source": [
    "total_medals_country_men = tt_men.loc[pd.notnull(tt_men.Medal)].groupby('Team').Team.count()\n",
    "total_medals_country_men"
   ]
  },
  {
   "cell_type": "code",
   "execution_count": 13,
   "metadata": {},
   "outputs": [
    {
     "data": {
      "text/plain": [
       "Team\n",
       "China             44\n",
       "Chinese Taipei     2\n",
       "Germany            3\n",
       "Japan              6\n",
       "North Korea        5\n",
       "Singapore          7\n",
       "South Korea       15\n",
       "Yugoslavia         2\n",
       "Name: Team, dtype: int64"
      ]
     },
     "execution_count": 13,
     "metadata": {},
     "output_type": "execute_result"
    }
   ],
   "source": [
    "total_medals_country_women = tt_women.loc[pd.notnull(tt_women.Medal)].groupby('Team').Team.count()\n",
    "total_medals_country_women"
   ]
  },
  {
   "cell_type": "code",
   "execution_count": 14,
   "metadata": {},
   "outputs": [
    {
     "name": "stdout",
     "output_type": "stream",
     "text": [
      "          Team  Medals\n",
      "0        China      37\n",
      "1      Denmark       2\n",
      "2       France       3\n",
      "3      Germany      13\n",
      "4    Hong Kong       2\n",
      "5        Japan       4\n",
      "6  South Korea      18\n",
      "7       Sweden       3\n",
      "8   Yugoslavia       2\n"
     ]
    }
   ],
   "source": [
    "df = pd.DataFrame(data = {'Medals':total_medals_country_men}, index=total_medals_country_men.index).reset_index()\n",
    "print(df)\n"
   ]
  },
  {
   "cell_type": "code",
   "execution_count": 15,
   "metadata": {},
   "outputs": [
    {
     "data": {
      "application/vnd.plotly.v1+json": {
       "config": {
        "linkText": "Export to plot.ly",
        "plotlyServerURL": "https://plot.ly",
        "showLink": true
       },
       "data": [
        {
         "autocolorscale": false,
         "colorbar": {
          "tickprefix": "",
          "title": "Medals"
         },
         "colorscale": "Viridis",
         "locationmode": "country names",
         "locations": [
          "China",
          "Denmark",
          "France",
          "Germany",
          "Hong Kong",
          "Japan",
          "South Korea",
          "Sweden",
          "Yugoslavia"
         ],
         "marker": {
          "line": {
           "color": "rgb(0,0,0)",
           "width": 1
          }
         },
         "reversescale": true,
         "text": [
          "China",
          "Denmark",
          "France",
          "Germany",
          "Hong Kong",
          "Japan",
          "South Korea",
          "Sweden",
          "Yugoslavia"
         ],
         "type": "choropleth",
         "uid": "b54c583d-51c4-4248-9cf8-2119fb744dbb",
         "z": [
          37,
          2,
          3,
          13,
          2,
          4,
          18,
          3,
          2
         ]
        }
       ],
       "layout": {
        "geo": {
         "projection": {
          "type": "natural earth"
         },
         "showcoastlines": true,
         "showframe": true,
         "showlakes": false
        },
        "title": "Table Tennis Medals by Country (Men)"
       }
      },
      "text/html": [
       "<div id=\"6bf01f72-b0c8-4fcb-a79c-204a4eae15ea\" style=\"height: 525px; width: 100%;\" class=\"plotly-graph-div\"></div><script type=\"text/javascript\">require([\"plotly\"], function(Plotly) { window.PLOTLYENV=window.PLOTLYENV || {};window.PLOTLYENV.BASE_URL=\"https://plot.ly\";Plotly.newPlot(\"6bf01f72-b0c8-4fcb-a79c-204a4eae15ea\", [{\"autocolorscale\": false, \"colorbar\": {\"tickprefix\": \"\", \"title\": \"Medals\"}, \"colorscale\": \"Viridis\", \"locationmode\": \"country names\", \"locations\": [\"China\", \"Denmark\", \"France\", \"Germany\", \"Hong Kong\", \"Japan\", \"South Korea\", \"Sweden\", \"Yugoslavia\"], \"marker\": {\"line\": {\"color\": \"rgb(0,0,0)\", \"width\": 1}}, \"reversescale\": true, \"text\": [\"China\", \"Denmark\", \"France\", \"Germany\", \"Hong Kong\", \"Japan\", \"South Korea\", \"Sweden\", \"Yugoslavia\"], \"z\": [37, 2, 3, 13, 2, 4, 18, 3, 2], \"type\": \"choropleth\", \"uid\": \"7b789968-7a07-47bc-909b-d7aa8b21661e\"}], {\"geo\": {\"projection\": {\"type\": \"natural earth\"}, \"showcoastlines\": true, \"showframe\": true, \"showlakes\": false}, \"title\": \"Table Tennis Medals by Country (Men)\"}, {\"showLink\": true, \"linkText\": \"Export to plot.ly\", \"plotlyServerURL\": \"https://plot.ly\"})});</script><script type=\"text/javascript\">window.addEventListener(\"resize\", function(){window._Plotly.Plots.resize(document.getElementById(\"6bf01f72-b0c8-4fcb-a79c-204a4eae15ea\"));});</script>"
      ],
      "text/vnd.plotly.v1+html": [
       "<div id=\"6bf01f72-b0c8-4fcb-a79c-204a4eae15ea\" style=\"height: 525px; width: 100%;\" class=\"plotly-graph-div\"></div><script type=\"text/javascript\">require([\"plotly\"], function(Plotly) { window.PLOTLYENV=window.PLOTLYENV || {};window.PLOTLYENV.BASE_URL=\"https://plot.ly\";Plotly.newPlot(\"6bf01f72-b0c8-4fcb-a79c-204a4eae15ea\", [{\"autocolorscale\": false, \"colorbar\": {\"tickprefix\": \"\", \"title\": \"Medals\"}, \"colorscale\": \"Viridis\", \"locationmode\": \"country names\", \"locations\": [\"China\", \"Denmark\", \"France\", \"Germany\", \"Hong Kong\", \"Japan\", \"South Korea\", \"Sweden\", \"Yugoslavia\"], \"marker\": {\"line\": {\"color\": \"rgb(0,0,0)\", \"width\": 1}}, \"reversescale\": true, \"text\": [\"China\", \"Denmark\", \"France\", \"Germany\", \"Hong Kong\", \"Japan\", \"South Korea\", \"Sweden\", \"Yugoslavia\"], \"z\": [37, 2, 3, 13, 2, 4, 18, 3, 2], \"type\": \"choropleth\", \"uid\": \"7b789968-7a07-47bc-909b-d7aa8b21661e\"}], {\"geo\": {\"projection\": {\"type\": \"natural earth\"}, \"showcoastlines\": true, \"showframe\": true, \"showlakes\": false}, \"title\": \"Table Tennis Medals by Country (Men)\"}, {\"showLink\": true, \"linkText\": \"Export to plot.ly\", \"plotlyServerURL\": \"https://plot.ly\"})});</script><script type=\"text/javascript\">window.addEventListener(\"resize\", function(){window._Plotly.Plots.resize(document.getElementById(\"6bf01f72-b0c8-4fcb-a79c-204a4eae15ea\"));});</script>"
      ]
     },
     "metadata": {},
     "output_type": "display_data"
    }
   ],
   "source": [
    "trace = go.Choropleth(\n",
    "            locations = df['Team'],\n",
    "            locationmode='country names',\n",
    "            z = df['Medals'],\n",
    "            text = df['Team'],\n",
    "            autocolorscale = False,\n",
    "            reversescale = True,\n",
    "            colorscale = 'Viridis',\n",
    "            marker = dict(\n",
    "                line = dict(\n",
    "                    color = 'rgb(0,0,0)',\n",
    "                    width = 1)\n",
    "            ),\n",
    "            colorbar = dict(\n",
    "                title = 'Medals',\n",
    "                tickprefix = '')\n",
    "        )\n",
    "\n",
    "data = [trace]\n",
    "layout = go.Layout(\n",
    "    title = 'Table Tennis Medals by Country (Men)',\n",
    "    geo = dict(\n",
    "        showframe = True,\n",
    "        showlakes = False,\n",
    "        showcoastlines = True,\n",
    "        projection = dict(\n",
    "            type = 'natural earth'\n",
    "        )\n",
    "    )\n",
    ")\n",
    "\n",
    "fig = dict( data=data, layout=layout )\n",
    "iplot(fig) "
   ]
  },
  {
   "cell_type": "code",
   "execution_count": 16,
   "metadata": {},
   "outputs": [
    {
     "name": "stdout",
     "output_type": "stream",
     "text": [
      "             Team  Medals\n",
      "0           China      44\n",
      "1  Chinese Taipei       2\n",
      "2         Germany       3\n",
      "3           Japan       6\n",
      "4     North Korea       5\n",
      "5       Singapore       7\n",
      "6     South Korea      15\n",
      "7      Yugoslavia       2\n"
     ]
    }
   ],
   "source": [
    "df2 = pd.DataFrame(data = {'Medals':total_medals_country_women}, index=total_medals_country_women.index).reset_index()\n",
    "print(df2)"
   ]
  },
  {
   "cell_type": "code",
   "execution_count": 17,
   "metadata": {},
   "outputs": [
    {
     "data": {
      "application/vnd.plotly.v1+json": {
       "config": {
        "linkText": "Export to plot.ly",
        "plotlyServerURL": "https://plot.ly",
        "showLink": true
       },
       "data": [
        {
         "autocolorscale": false,
         "colorbar": {
          "tickprefix": "",
          "title": "Medals"
         },
         "colorscale": "Viridis",
         "locationmode": "country names",
         "locations": [
          "China",
          "Chinese Taipei",
          "Germany",
          "Japan",
          "North Korea",
          "Singapore",
          "South Korea",
          "Yugoslavia"
         ],
         "marker": {
          "line": {
           "color": "rgb(0,0,0)",
           "width": 1
          }
         },
         "reversescale": true,
         "text": [
          "China",
          "Chinese Taipei",
          "Germany",
          "Japan",
          "North Korea",
          "Singapore",
          "South Korea",
          "Yugoslavia"
         ],
         "type": "choropleth",
         "uid": "d4a47334-6046-4350-af2e-e8d767331311",
         "z": [
          44,
          2,
          3,
          6,
          5,
          7,
          15,
          2
         ]
        }
       ],
       "layout": {
        "geo": {
         "projection": {
          "type": "natural earth"
         },
         "showcoastlines": true,
         "showframe": true,
         "showlakes": false
        },
        "title": "Table Tennis Medals by Country (Women)"
       }
      },
      "text/html": [
       "<div id=\"182f3b18-36dc-4a4f-b239-7814a9c811d6\" style=\"height: 525px; width: 100%;\" class=\"plotly-graph-div\"></div><script type=\"text/javascript\">require([\"plotly\"], function(Plotly) { window.PLOTLYENV=window.PLOTLYENV || {};window.PLOTLYENV.BASE_URL=\"https://plot.ly\";Plotly.newPlot(\"182f3b18-36dc-4a4f-b239-7814a9c811d6\", [{\"autocolorscale\": false, \"colorbar\": {\"tickprefix\": \"\", \"title\": \"Medals\"}, \"colorscale\": \"Viridis\", \"locationmode\": \"country names\", \"locations\": [\"China\", \"Chinese Taipei\", \"Germany\", \"Japan\", \"North Korea\", \"Singapore\", \"South Korea\", \"Yugoslavia\"], \"marker\": {\"line\": {\"color\": \"rgb(0,0,0)\", \"width\": 1}}, \"reversescale\": true, \"text\": [\"China\", \"Chinese Taipei\", \"Germany\", \"Japan\", \"North Korea\", \"Singapore\", \"South Korea\", \"Yugoslavia\"], \"z\": [44, 2, 3, 6, 5, 7, 15, 2], \"type\": \"choropleth\", \"uid\": \"76e5627f-796e-4f82-bc6f-29022c413857\"}], {\"geo\": {\"projection\": {\"type\": \"natural earth\"}, \"showcoastlines\": true, \"showframe\": true, \"showlakes\": false}, \"title\": \"Table Tennis Medals by Country (Women)\"}, {\"showLink\": true, \"linkText\": \"Export to plot.ly\", \"plotlyServerURL\": \"https://plot.ly\"})});</script><script type=\"text/javascript\">window.addEventListener(\"resize\", function(){window._Plotly.Plots.resize(document.getElementById(\"182f3b18-36dc-4a4f-b239-7814a9c811d6\"));});</script>"
      ],
      "text/vnd.plotly.v1+html": [
       "<div id=\"182f3b18-36dc-4a4f-b239-7814a9c811d6\" style=\"height: 525px; width: 100%;\" class=\"plotly-graph-div\"></div><script type=\"text/javascript\">require([\"plotly\"], function(Plotly) { window.PLOTLYENV=window.PLOTLYENV || {};window.PLOTLYENV.BASE_URL=\"https://plot.ly\";Plotly.newPlot(\"182f3b18-36dc-4a4f-b239-7814a9c811d6\", [{\"autocolorscale\": false, \"colorbar\": {\"tickprefix\": \"\", \"title\": \"Medals\"}, \"colorscale\": \"Viridis\", \"locationmode\": \"country names\", \"locations\": [\"China\", \"Chinese Taipei\", \"Germany\", \"Japan\", \"North Korea\", \"Singapore\", \"South Korea\", \"Yugoslavia\"], \"marker\": {\"line\": {\"color\": \"rgb(0,0,0)\", \"width\": 1}}, \"reversescale\": true, \"text\": [\"China\", \"Chinese Taipei\", \"Germany\", \"Japan\", \"North Korea\", \"Singapore\", \"South Korea\", \"Yugoslavia\"], \"z\": [44, 2, 3, 6, 5, 7, 15, 2], \"type\": \"choropleth\", \"uid\": \"76e5627f-796e-4f82-bc6f-29022c413857\"}], {\"geo\": {\"projection\": {\"type\": \"natural earth\"}, \"showcoastlines\": true, \"showframe\": true, \"showlakes\": false}, \"title\": \"Table Tennis Medals by Country (Women)\"}, {\"showLink\": true, \"linkText\": \"Export to plot.ly\", \"plotlyServerURL\": \"https://plot.ly\"})});</script><script type=\"text/javascript\">window.addEventListener(\"resize\", function(){window._Plotly.Plots.resize(document.getElementById(\"182f3b18-36dc-4a4f-b239-7814a9c811d6\"));});</script>"
      ]
     },
     "metadata": {},
     "output_type": "display_data"
    }
   ],
   "source": [
    "trace2 = go.Choropleth(\n",
    "            locations = df2['Team'],\n",
    "            locationmode='country names',\n",
    "            z = df2['Medals'],\n",
    "            text = df2['Team'],\n",
    "            autocolorscale = False,\n",
    "            reversescale = True,\n",
    "            colorscale = 'Viridis',\n",
    "            marker = dict(\n",
    "                line = dict(\n",
    "                    color = 'rgb(0,0,0)',\n",
    "                    width = 1)\n",
    "            ),\n",
    "            colorbar = dict(\n",
    "                title = 'Medals',\n",
    "                tickprefix = '')\n",
    "        )\n",
    "\n",
    "data2 = [trace2]\n",
    "layout = go.Layout(\n",
    "    title = 'Table Tennis Medals by Country (Women)',\n",
    "    geo = dict(\n",
    "        showframe = True,\n",
    "        showlakes = False,\n",
    "        showcoastlines = True,\n",
    "        projection = dict(\n",
    "            type = 'natural earth'\n",
    "        )\n",
    "    )\n",
    ")\n",
    "\n",
    "fig2 = dict( data=data2, layout=layout )\n",
    "iplot(fig2) "
   ]
  }
 ],
 "metadata": {
  "kernelspec": {
   "display_name": "Python 3",
   "language": "python",
   "name": "python3"
  },
  "language_info": {
   "codemirror_mode": {
    "name": "ipython",
    "version": 3
   },
   "file_extension": ".py",
   "mimetype": "text/x-python",
   "name": "python",
   "nbconvert_exporter": "python",
   "pygments_lexer": "ipython3",
   "version": "3.6.5"
  }
 },
 "nbformat": 4,
 "nbformat_minor": 2
}
